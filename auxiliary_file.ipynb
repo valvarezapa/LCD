{
  "nbformat": 4,
  "nbformat_minor": 0,
  "metadata": {
    "colab": {
      "name": "Untitled8.ipynb",
      "provenance": []
    },
    "kernelspec": {
      "name": "python3",
      "display_name": "Python 3"
    },
    "language_info": {
      "name": "python"
    }
  },
  "cells": [
    {
      "cell_type": "code",
      "execution_count": null,
      "metadata": {
        "id": "USNeupQvwfai"
      },
      "outputs": [],
      "source": [
        "graphic=LCD.plotWithCycles_BasinsOfAttraction_Lyapunov(coefficientlistnum,coefficientlistden,(-0.5,1.5),(-0.5,2.0),300,3,8)\n",
        "img=graphic[1]\n",
        "numColors=graphic[2]"
      ]
    }
  ]
}